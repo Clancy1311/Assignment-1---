{
 "cells": [
  {
   "cell_type": "markdown",
   "metadata": {},
   "source": [
    "# Clancy"
   ]
  },
  {
   "cell_type": "markdown",
   "metadata": {},
   "source": [
    "# Problem Set 1"
   ]
  },
  {
   "cell_type": "markdown",
   "metadata": {},
   "source": [
    "# Question 1 "
   ]
  },
  {
   "cell_type": "markdown",
   "metadata": {},
   "source": [
    "What data type is each of the following?\n",
    "- 5\n",
    "- 5.0\n",
    "- 5 > 1\n",
    "- '5'\n",
    "- 5 * 2\n",
    "- '5' * 2\n",
    "- '5' + '2'\n",
    "- 5 / 2\n",
    "- 5 // 2\n",
    "- [5, 2, 1]\n",
    "- 5 in [1, 4, 6]\n",
    "- Pi (the number)"
   ]
  },
  {
   "cell_type": "code",
   "execution_count": 27,
   "metadata": {},
   "outputs": [
    {
     "data": {
      "text/plain": [
       "5"
      ]
     },
     "execution_count": 27,
     "metadata": {},
     "output_type": "execute_result"
    }
   ],
   "source": [
    "//int\n",
    "5"
   ]
  },
  {
   "cell_type": "code",
   "execution_count": 28,
   "metadata": {},
   "outputs": [
    {
     "data": {
      "text/plain": [
       "5"
      ]
     },
     "execution_count": 28,
     "metadata": {},
     "output_type": "execute_result"
    }
   ],
   "source": [
    "//double\n",
    "5.0"
   ]
  },
  {
   "cell_type": "code",
   "execution_count": 29,
   "metadata": {},
   "outputs": [
    {
     "data": {
      "text/plain": [
       "True"
      ]
     },
     "execution_count": 29,
     "metadata": {},
     "output_type": "execute_result"
    }
   ],
   "source": [
    "//boolean\n",
    "5>1"
   ]
  },
  {
   "cell_type": "code",
   "execution_count": 30,
   "metadata": {},
   "outputs": [
    {
     "data": {
      "text/plain": [
       "5"
      ]
     },
     "execution_count": 30,
     "metadata": {},
     "output_type": "execute_result"
    }
   ],
   "source": [
    "//int\n",
    "'5'"
   ]
  },
  {
   "cell_type": "code",
   "execution_count": 31,
   "metadata": {},
   "outputs": [
    {
     "data": {
      "text/plain": [
       "106"
      ]
     },
     "execution_count": 31,
     "metadata": {},
     "output_type": "execute_result"
    }
   ],
   "source": [
    "//int \n",
    "'5'*2"
   ]
  },
  {
   "cell_type": "code",
   "execution_count": 32,
   "metadata": {},
   "outputs": [
    {
     "data": {
      "text/plain": [
       "103"
      ]
     },
     "execution_count": 32,
     "metadata": {},
     "output_type": "execute_result"
    }
   ],
   "source": [
    "// int math logic strings\n",
    "'5' + '2'"
   ]
  },
  {
   "cell_type": "code",
   "execution_count": 2,
   "metadata": {},
   "outputs": [
    {
     "data": {
      "text/plain": [
       "10"
      ]
     },
     "execution_count": 2,
     "metadata": {},
     "output_type": "execute_result"
    }
   ],
   "source": [
    "//int\n",
    "5*2"
   ]
  },
  {
   "cell_type": "code",
   "execution_count": 1,
   "metadata": {},
   "outputs": [
    {
     "ename": "SyntaxError",
     "evalue": "invalid syntax (<ipython-input-1-c5c642702977>, line 1)",
     "output_type": "error",
     "traceback": [
      "\u001b[1;36m  File \u001b[1;32m\"<ipython-input-1-c5c642702977>\"\u001b[1;36m, line \u001b[1;32m1\u001b[0m\n\u001b[1;33m    //array list 'int'\u001b[0m\n\u001b[1;37m    ^\u001b[0m\n\u001b[1;31mSyntaxError\u001b[0m\u001b[1;31m:\u001b[0m invalid syntax\n"
     ]
    }
   ],
   "source": [
    "//array list 'int'\n",
    "[5, 2, 1]"
   ]
  },
  {
   "cell_type": "code",
   "execution_count": 2,
   "metadata": {},
   "outputs": [
    {
     "ename": "SyntaxError",
     "evalue": "invalid syntax (<ipython-input-2-225bdefb4556>, line 1)",
     "output_type": "error",
     "traceback": [
      "\u001b[1;36m  File \u001b[1;32m\"<ipython-input-2-225bdefb4556>\"\u001b[1;36m, line \u001b[1;32m1\u001b[0m\n\u001b[1;33m    //float\u001b[0m\n\u001b[1;37m    ^\u001b[0m\n\u001b[1;31mSyntaxError\u001b[0m\u001b[1;31m:\u001b[0m invalid syntax\n"
     ]
    }
   ],
   "source": [
    "//float\n",
    "math.pi ('x');"
   ]
  },
  {
   "cell_type": "markdown",
   "metadata": {},
   "source": [
    "# Question 2 "
   ]
  },
  {
   "cell_type": "markdown",
   "metadata": {},
   "source": [
    "Write (and evaluate) C# expressions that answer these questions:\n",
    "- a. How many letters are there in 'Supercalifragilisticexpialidocious'?\n",
    "- b. Does 'Supercalifragilisticexpialidocious' contain 'ice' as a substring? "
   ]
  },
  {
   "cell_type": "code",
   "execution_count": 4,
   "metadata": {},
   "outputs": [
    {
     "ename": "SyntaxError",
     "evalue": "invalid syntax (<ipython-input-4-bfc7e9ba3ab4>, line 1)",
     "output_type": "error",
     "traceback": [
      "\u001b[1;36m  File \u001b[1;32m\"<ipython-input-4-bfc7e9ba3ab4>\"\u001b[1;36m, line \u001b[1;32m1\u001b[0m\n\u001b[1;33m    using System;\u001b[0m\n\u001b[1;37m          ^\u001b[0m\n\u001b[1;31mSyntaxError\u001b[0m\u001b[1;31m:\u001b[0m invalid syntax\n"
     ]
    }
   ],
   "source": [
    "using System;\n",
    "static void Main(string[] args)\n",
    "        {\n",
    "            string line = \"Supercalifragilisticexpialidocious\";\n",
    "            Console.WriteLine(line + \"\\n\");\n",
    "            string list = \"ABCÇDEFGHİIJKLMNOPRSŞTUVYZ\"\n",
    "                           + \"abcdefghiıjklmnoprstuvyz\";\n",
    "            int c = 0;\n",
    "            for (int i = 0; i < line.Length; i++)\n",
    "            {\n",
    "                //count\n",
    "                if (list.Contains(line[i]))\n",
    "                {\n",
    "                    c++;\n",
    "                }\n",
    "            }\n",
    "            Console.WriteLine(\" {0} \\n.\", c);\n",
    "            Console.ReadLine();\n",
    "        }"
   ]
  },
  {
   "cell_type": "markdown",
   "metadata": {},
   "source": [
    "# Question 3 "
   ]
  },
  {
   "cell_type": "markdown",
   "metadata": {},
   "source": [
    "Implement function triangleArea(a,b,c) that takes as input the lengths of the 3\n",
    "sides of a triangle and returns the area of the triangle. By Heron's formula, the area\n",
    "of a triangle with side lengths a, b, and c is\n",
    "s(s - a)(s -b)(s -c)\n",
    ", where\n",
    "s = (a+b+c)/2. "
   ]
  },
  {
   "cell_type": "code",
   "execution_count": 2,
   "metadata": {},
   "outputs": [
    {
     "ename": "SyntaxError",
     "evalue": "invalid syntax (<ipython-input-2-b100e886277e>, line 1)",
     "output_type": "error",
     "traceback": [
      "\u001b[1;36m  File \u001b[1;32m\"<ipython-input-2-b100e886277e>\"\u001b[1;36m, line \u001b[1;32m1\u001b[0m\n\u001b[1;33m    using System;\u001b[0m\n\u001b[1;37m          ^\u001b[0m\n\u001b[1;31mSyntaxError\u001b[0m\u001b[1;31m:\u001b[0m invalid syntax\n"
     ]
    }
   ],
   "source": [
    "using System;\n",
    "\n",
    "    {\n",
    "        public class TriangleArea \n",
    "        {\n",
    "            public static void Main(string[] args)\n",
    "            {\n",
    "                double s, area;\n",
    "                double x, y, z;\n",
    "\n",
    "                Console.WriteLine(\"Enter side #1\");\n",
    "                x = double.Parse(Console.ReadLine());\n",
    "                Console.WriteLine(\"Enter side #2\");\n",
    "                y = double.Parse(Console.ReadLine());\n",
    "                Console.WriteLine(\"Enter side #3\");\n",
    "                z = double.Parse(Console.ReadLine());\n",
    "\n",
    "                s = (x + y + z) / 2;\n",
    "                area = Math.Sqrt(s * (s - x) * (s - y) * (s - z));\n",
    "\n",
    "                Console.WriteLine(\"Area = {0}\", area);\n",
    "            }\n",
    "        }\n",
    "    }\n"
   ]
  },
  {
   "cell_type": "code",
   "execution_count": null,
   "metadata": {},
   "outputs": [],
   "source": []
  },
  {
   "cell_type": "markdown",
   "metadata": {},
   "source": [
    "# Question 4 "
   ]
  },
  {
   "cell_type": "markdown",
   "metadata": {},
   "source": [
    "Write a program in C# Sharp to separate odd and even integers in separate arrays.\n",
    "Go to the editor\n",
    "- Test Data :\n",
    "- Input the number of elements to be stored in the array :5\n",
    "- Input 5 elements in the array :\n",
    "- element - 0 : 25\n",
    "- element - 1 : 47\n",
    "- element - 2 : 42\n",
    "- element - 3 : 56\n",
    "- element - 4 : 32\n",
    "- Expected Output:\n",
    "- The Even elements are:\n",
    "- 42 56 32\n",
    "- The Odd elements are :\n",
    "- 25 47"
   ]
  },
  {
   "cell_type": "markdown",
   "metadata": {},
   "source": [
    "# Question 5 "
   ]
  },
  {
   "cell_type": "markdown",
   "metadata": {},
   "source": [
    "a. Write a function inside(x,y,x1,y1,x2,y2) that returns True or False depending on whether the point (x,y) lies in the rectangle with lower left corner (x1,y1) and upper right corner (x2,y2). \n",
    " \n",
    ">>> inside(1,1,0,0,2,3) True >>> inside(-1,-1,0,0,2,3) False \n",
    " \n",
    "b. Use function inside() from part a. to write an expression that tests whether the point (1,1) lies in both of the following rectangles: one with lower left corner (0.3, 0.5) and upper right corner (1.1, 0.7) and the other with lower left corner (0.5, 0.2) and upper right corner (1.1, 2)."
   ]
  },
  {
   "cell_type": "code",
   "execution_count": 3,
   "metadata": {},
   "outputs": [
    {
     "ename": "SyntaxError",
     "evalue": "invalid syntax (<ipython-input-3-d3bc775f4b56>, line 1)",
     "output_type": "error",
     "traceback": [
      "\u001b[1;36m  File \u001b[1;32m\"<ipython-input-3-d3bc775f4b56>\"\u001b[1;36m, line \u001b[1;32m1\u001b[0m\n\u001b[1;33m    using System;\u001b[0m\n\u001b[1;37m          ^\u001b[0m\n\u001b[1;31mSyntaxError\u001b[0m\u001b[1;31m:\u001b[0m invalid syntax\n"
     ]
    }
   ],
   "source": [
    "using System;\n",
    "\n",
    "public class Program\n",
    "{\n",
    "    public static void Main()\n",
    "    {\n",
    "        Console.WriteLine(\"Input the number of elements to be stored in the array:\");\n",
    "        int read_num = Convert.ToInt32(Console.ReadLine());\n",
    "        int[] array_input = new int[read_num];\n",
    "        for(int i = 0 ; i < read_num; i++){\n",
    "            Console.WriteLine(\"element - \"+ i +\" : \");\n",
    "            array_input[i] = Convert.ToInt32(Console.ReadLine());\n",
    "        }\n",
    "        Console.WriteLine(\"The Even elements are:\");\n",
    "        for(int i = 0 ; i < read_num; i++){\n",
    "            if(array_input[i]%2 ==0){\n",
    "                Console.WriteLine(array_input[i]);\n",
    "            }\n",
    "        }\n",
    "        Console.WriteLine(\"The Odd elements are:\");\n",
    "        for(int i = 0 ; i < read_num; i++){\n",
    "            if(array_input[i]%2 != 0){\n",
    "                Console.WriteLine(array_input[i]);\n",
    "            }\n",
    "        }\n",
    "        Console.WriteLine(inside(1,1,0,0,2,3));\n",
    "        Console.WriteLine(inside(-1,-1,0,0,2,3));\n",
    "        Console.WriteLine(inside(1,1,0.3,0.5,1.1,0.7));\n",
    "        Console.WriteLine(inside(1,1,0.5,0.2,1.1,2));\n",
    "    }\n",
    "\n",
    "    static public bool inside(double a, double b, double a1, double b1, double a2, double b2){\n",
    "        bool check_result;\n",
    "        if(a >= a1 & a <= a & b >=b1 & b <= b2){\n",
    "            check_result = true;\n",
    "        }else{\n",
    "            check_result = false;\n",
    "        }\n",
    "        return check_result;\n",
    "    }\n",
    "}"
   ]
  },
  {
   "cell_type": "code",
   "execution_count": null,
   "metadata": {},
   "outputs": [],
   "source": []
  }
 ],
 "metadata": {
  "kernelspec": {
   "display_name": "Python 3",
   "language": "python",
   "name": "python3"
  },
  "language_info": {
   "codemirror_mode": {
    "name": "ipython",
    "version": 3
   },
   "file_extension": ".py",
   "mimetype": "text/x-python",
   "name": "python",
   "nbconvert_exporter": "python",
   "pygments_lexer": "ipython3",
   "version": "3.8.5"
  }
 },
 "nbformat": 4,
 "nbformat_minor": 4
}
