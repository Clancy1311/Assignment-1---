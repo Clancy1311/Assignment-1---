{
 "cells": [
  {
   "cell_type": "code",
   "execution_count": null,
   "metadata": {},
   "outputs": [],
   "source": [
    "#Que 6\n",
    "def pig(word):\n",
    "    first_letter = word[0]\n",
    "    rest_of_word = word[1 : ]\n",
    "    if first_letter in('a','e','i','o','u'):\n",
    "        print (first_letter + rest_of_word + \"way\")\n",
    "    else:\n",
    "         print (rest_of_word + first_letter+ \"ay\")"
   ]
  },
  {
   "cell_type": "code",
   "execution_count": null,
   "metadata": {},
   "outputs": [],
   "source": [
    "pig('enter')\n",
    "pig('happy')"
   ]
  },
  {
   "cell_type": "code",
   "execution_count": null,
   "metadata": {},
   "outputs": [],
   "source": [
    "#Que 7\n",
    "def bldcount(types):\n",
    "    infile = open('C:\\\\Users\\\\User\\\\Downloads\\\\bloodtype.txt')\n",
    "    a = infile.read()\n",
    "    infile.close()\n",
    "    a=a.split()\n",
    "    bloodtype = ['A','B','AB','O','OO']\n",
    "    for x in bloodtype:\n",
    "        if a.count(x)==0:\n",
    "            print('there are no patients of blood type',x+'.')\n",
    "        elif a.count(x)==1:\n",
    "            print('patients with blood type',x+'.')\n",
    "        else:print('there are',a.count(x),'patient with bloodtype',x+'.')\n",
    "bldcount('bloodtype.txt')"
   ]
  },
  {
   "cell_type": "code",
   "execution_count": null,
   "metadata": {},
   "outputs": [],
   "source": [
    "#Que 8\n",
    "def curconv(exchange,amount):\n",
    "    \n",
    "    infile = open('C:\\\\Users\\\\User\\\\Downloads\\\\currency.txt')\n",
    "    temp = infile.readlines()\n",
    "    \n",
    "    for line in temp:\n",
    "        a = line.split()\n",
    "        if exchange == a[0]:\n",
    "            x = amount * float(a[1])\n",
    "            \n",
    "            print(x)\n",
    "            infile.close()\n",
    "#input curconv()            \n",
    "curconv('EUR', 100) \n",
    "curconv('JPY', 100)"
   ]
  },
  {
   "cell_type": "code",
   "execution_count": null,
   "metadata": {},
   "outputs": [],
   "source": [
    "# Que 9\n",
    "#1\n",
    "print (6+'a')\n",
    "#2\n",
    "a_list = [1, 2, 3, 4, 5, 6, 7 ,8 , 9 ]\n",
    "a_list[12]\n",
    "#3\n",
    "n = -1.0\n",
    "y = n ** 2\n",
    "print(y)\n",
    "#4\n",
    "print(x)"
   ]
  },
  {
   "cell_type": "code",
   "execution_count": 1,
   "metadata": {},
   "outputs": [
    {
     "name": "stdout",
     "output_type": "stream",
     "text": [
      "nameapple\n",
      "1\n",
      "0\n",
      "0\n",
      "0\n",
      "1\n",
      "0\n",
      "0\n",
      "0\n",
      "0\n",
      "0\n",
      "0\n",
      "1\n",
      "0\n",
      "0\n",
      "0\n",
      "2\n",
      "0\n",
      "0\n",
      "0\n",
      "0\n",
      "0\n",
      "0\n",
      "0\n",
      "0\n",
      "0\n",
      "0\n"
     ]
    }
   ],
   "source": [
    "#Que 10\n",
    "string = input(\"name\")\n",
    "\n",
    "frequencies=['a','b','c','d','e','f','g','h','i','j','k','l','m','n','o','p','q','r','s','t','u','v','w','x','y','z']\n",
    "\n",
    "for i in range(0,26):\n",
    "    print (string.count(frequencies[i]))"
   ]
  },
  {
   "cell_type": "code",
   "execution_count": null,
   "metadata": {},
   "outputs": [],
   "source": []
  },
  {
   "cell_type": "code",
   "execution_count": null,
   "metadata": {},
   "outputs": [],
   "source": []
  },
  {
   "cell_type": "code",
   "execution_count": null,
   "metadata": {},
   "outputs": [],
   "source": []
  }
 ],
 "metadata": {
  "kernelspec": {
   "display_name": "Python 3",
   "language": "python",
   "name": "python3"
  },
  "language_info": {
   "codemirror_mode": {
    "name": "ipython",
    "version": 3
   },
   "file_extension": ".py",
   "mimetype": "text/x-python",
   "name": "python",
   "nbconvert_exporter": "python",
   "pygments_lexer": "ipython3",
   "version": "3.8.5"
  }
 },
 "nbformat": 4,
 "nbformat_minor": 4
}
